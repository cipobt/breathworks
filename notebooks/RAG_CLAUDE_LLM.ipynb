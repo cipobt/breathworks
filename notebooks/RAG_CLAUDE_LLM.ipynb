{
 "cells": [
  {
   "cell_type": "code",
   "execution_count": 114,
   "id": "9d7ea4b0",
   "metadata": {},
   "outputs": [],
   "source": [
    "from llama_index.llms.anthropic import Anthropic\n",
    "from llama_index.core.query_engine import PandasQueryEngine\n",
    "from llama_index.core import Settings\n",
    "import os\n",
    "from dotenv import load_dotenv\n",
    "# tokenizer = Anthropic().tokenizer\n",
    "# Settings.tokenizer = tokenizer\n",
    "load_dotenv()\n",
    "import pandas as pd\n",
    "\n",
    "pd.set_option('display.max_colwidth', None)\n",
    "import string\n",
    "from nltk.corpus import stopwords\n",
    "import string\n",
    "from nltk.stem.wordnet import WordNetLemmatizer\n",
    "from nltk import word_tokenize\n",
    "from llama_index.readers.file import CSVReader\n",
    "from pathlib import Path\n",
    "from llama_index.core import StorageContext, VectorStoreIndex, load_index_from_storage, SimpleDirectoryReader, ServiceContext\n",
    "from llama_index.core.agent import ReActAgent\n",
    "from llama_index.core.tools import FunctionTool, QueryEngineTool, ToolMetadata"
   ]
  },
  {
   "cell_type": "code",
   "execution_count": 2,
   "id": "4375b895",
   "metadata": {},
   "outputs": [],
   "source": [
    "file_path = os.path.join('..','data','omfh_backup.csv')"
   ]
  },
  {
   "cell_type": "code",
   "execution_count": 3,
   "id": "5ce9e00e",
   "metadata": {},
   "outputs": [
    {
     "name": "stderr",
     "output_type": "stream",
     "text": [
      "/var/folders/5f/x2w9tgt92s544tmyynhl8y3h0000gn/T/ipykernel_74757/2789219795.py:2: FutureWarning: A value is trying to be set on a copy of a DataFrame or Series through chained assignment using an inplace method.\n",
      "The behavior will change in pandas 3.0. This inplace method will never work because the intermediate object on which we are setting values always behaves as a copy.\n",
      "\n",
      "For example, when doing 'df[col].method(value, inplace=True)', try using 'df.method({col: value}, inplace=True)' or df[col] = df[col].method(value) instead, to perform the operation inplace on the original object.\n",
      "\n",
      "\n",
      "  df.Motivation.fillna('',inplace=True)\n"
     ]
    }
   ],
   "source": [
    "df = pd.read_csv(file_path)\n",
    "df.Motivation.fillna('',inplace=True)"
   ]
  },
  {
   "cell_type": "code",
   "execution_count": 4,
   "id": "eade678f",
   "metadata": {},
   "outputs": [],
   "source": [
    "def clean (text):\n",
    "    for punctuation in string.punctuation:\n",
    "        text = text.replace(punctuation, ' ') # Remove Punctuation\n",
    "    lowercased = text.lower() # Lower Case\n",
    "    tokenized = word_tokenize(lowercased) # Tokenize\n",
    "    words_only = [word for word in tokenized if word.isalpha()] # Remove numbers\n",
    "    stop_words = set(stopwords.words('english')) # Make stopword list\n",
    "    without_stopwords = [word for word in words_only if not word in stop_words] # Remove Stop Words\n",
    "    lemma=WordNetLemmatizer() # Initiate Lemmatizer\n",
    "    lemmatized = [lemma.lemmatize(word) for word in without_stopwords] # Lemmatize\n",
    "    cleaned = ' '.join(lemmatized) # Join back to a string\n",
    "    return cleaned\n",
    "\n",
    "# Apply to all texts\n",
    "df['clean_text'] = df.Motivation.apply(clean)"
   ]
  },
  {
   "cell_type": "code",
   "execution_count": 101,
   "id": "090341e1",
   "metadata": {},
   "outputs": [],
   "source": [
    "ANTHROPIC_API_KEY = os.getenv('ANTHROPIC_API_KEY')\n",
    "# To customize your API key, do this\n",
    "# otherwise it will lookup ANTHROPIC_API_KEY from your env variable\n",
    "# llm = Anthropic(api_key=\"<>)\n",
    "llm = Anthropic(model=\"claude-3-opus-20240229\")\n",
    "\n",
    "# resp = llm.complete(\"Paul Graham is \", max_tokens=5)\n"
   ]
  },
  {
   "cell_type": "code",
   "execution_count": 103,
   "id": "627c5b71",
   "metadata": {},
   "outputs": [],
   "source": [
    "from llama_index.core import Settings\n",
    "tokenizer = Anthropic().tokenizer\n",
    "Settings.tokenizer = tokenizer\n",
    "Settings.llm = Anthropic(model=\"claude-3-opus-20240229\",api_key=ANTHROPIC_API_KEY)"
   ]
  },
  {
   "cell_type": "code",
   "execution_count": 111,
   "id": "42976848",
   "metadata": {},
   "outputs": [],
   "source": [
    "from llama_index.core import PromptTemplate\n",
    "\n",
    "\n",
    "instruction_str = \"\"\"\\\n",
    "    1. Convert the query to executable Python code using Pandas.\n",
    "    2. The final line of code should be a Python expression that can be called with the `eval()` function.\n",
    "    3. The code should represent a solution to the query.\n",
    "    4. PRINT ONLY THE EXPRESSION.\n",
    "    5. Do not quote the expression.\"\"\"\n",
    "\n",
    "new_prompt = PromptTemplate(\n",
    "    \"\"\"\\\n",
    "    You are working with a pandas dataframe in Python.\n",
    "    The name of the dataframe is `df`.\n",
    "    This is the result of `print(df.head())`:\n",
    "    {df_str}\n",
    "\n",
    "    Follow these instructions:\n",
    "    {instruction_str}\n",
    "    Query: {query_str}\n",
    "\n",
    "    Expression: \"\"\"\n",
    ")\n",
    "\n",
    "context = \"\"\"Purpose: The primary role of this agent is to assist users by providing accurate \n",
    "            information about the patients in this data set who have signed up for a breathing class. The agen has \n",
    "            the choice to query the dataframe usings pandas or using it's llm capabilities to answer the question.\"\"\""
   ]
  },
  {
   "cell_type": "code",
   "execution_count": 8,
   "id": "30a364fb",
   "metadata": {},
   "outputs": [],
   "source": [
    "df_query_engine = PandasQueryEngine(df=df.head(),verbose=True,instruction_str=instruction_str)"
   ]
  },
  {
   "cell_type": "code",
   "execution_count": 9,
   "id": "61206339",
   "metadata": {},
   "outputs": [
    {
     "name": "stdout",
     "output_type": "stream",
     "text": [
      "> Pandas Instructions:\n",
      "```\n",
      "df[(df['Gender'] == 'Female')]['County'].value_counts()\n",
      "```\n",
      "> Pandas Output: County\n",
      "Liverpool     1\n",
      "Merseyside    1\n",
      "Name: count, dtype: int64\n"
     ]
    },
    {
     "data": {
      "text/plain": [
       "Response(response='County\\nLiverpool     1\\nMerseyside    1\\nName: count, dtype: int64', source_nodes=[], metadata={'pandas_instruction_str': \"df[(df['Gender'] == 'Female')]['County'].value_counts()\", 'raw_pandas_output': 'County\\nLiverpool     1\\nMerseyside    1\\nName: count, dtype: int64'})"
      ]
     },
     "execution_count": 9,
     "metadata": {},
     "output_type": "execute_result"
    }
   ],
   "source": [
    "df_query_engine.update_prompts({\"pandas_prompt\": new_prompt})\n",
    "df_query_engine.query(\"how man females are in and where are they from?\")"
   ]
  },
  {
   "cell_type": "code",
   "execution_count": null,
   "id": "2ce1ab2f",
   "metadata": {},
   "outputs": [],
   "source": [
    "file_path"
   ]
  },
  {
   "cell_type": "code",
   "execution_count": 57,
   "id": "899ed21d",
   "metadata": {},
   "outputs": [],
   "source": [
    "df_head= df.head()\n",
    "df_head.to_csv('../data/df_head.csv')"
   ]
  },
  {
   "cell_type": "code",
   "execution_count": 58,
   "id": "42b1d257",
   "metadata": {},
   "outputs": [],
   "source": [
    "documents = CSVReader().load_data(Path('../data/df_head.csv'))"
   ]
  },
  {
   "cell_type": "code",
   "execution_count": 104,
   "id": "0b57b294",
   "metadata": {},
   "outputs": [
    {
     "name": "stderr",
     "output_type": "stream",
     "text": [
      "/var/folders/5f/x2w9tgt92s544tmyynhl8y3h0000gn/T/ipykernel_74757/671171286.py:1: DeprecationWarning: Call to deprecated class method from_defaults. (ServiceContext is deprecated, please use `llama_index.settings.Settings` instead.) -- Deprecated since version 0.10.0.\n",
      "  service_context = ServiceContext.from_defaults(chunk_size=1024, llm=llm, embed_model=\"local\")\n"
     ]
    }
   ],
   "source": [
    "service_context = ServiceContext.from_defaults(chunk_size=1024, llm=llm, embed_model=\"local\")"
   ]
  },
  {
   "cell_type": "code",
   "execution_count": 96,
   "id": "5fc1331b",
   "metadata": {},
   "outputs": [],
   "source": [
    "def get_index(data, index_name):\n",
    "    index = None\n",
    "    if not os.path.exists(index_name):\n",
    "        print(\"building index\", index_name)\n",
    "        index = VectorStoreIndex.from_documents(data, show_progress=True,llm=llm,service_context=service_context)\n",
    "        index.storage_context.persist(persist_dir=index_name)\n",
    "    else:\n",
    "        index = load_index_from_storage(\n",
    "            StorageContext.from_defaults(persist_dir=index_name)\n",
    "        )\n",
    "\n",
    "    return index\n"
   ]
  },
  {
   "cell_type": "code",
   "execution_count": 105,
   "id": "d6800748",
   "metadata": {},
   "outputs": [
    {
     "name": "stderr",
     "output_type": "stream",
     "text": [
      "\n",
      "\n",
      "Parsing nodes:   0%|                                                                 | 0/1 [00:00<?, ?it/s]\u001b[A\u001b[A\n",
      "\n",
      "Parsing nodes: 100%|█████████████████████████████████████████████████████████| 1/1 [00:00<00:00,  2.19it/s]\u001b[A\u001b[A\n",
      "\n",
      "\n",
      "Generating embeddings:   0%|                                                         | 0/2 [00:00<?, ?it/s]\u001b[A\u001b[A\n",
      "\n",
      "Generating embeddings: 100%|█████████████████████████████████████████████████| 2/2 [00:02<00:00,  1.11s/it]\u001b[A\u001b[A\n"
     ]
    }
   ],
   "source": [
    "df_index = VectorStoreIndex.from_documents(documents, show_progress=True,llm=llm,service_context=service_context)\n"
   ]
  },
  {
   "cell_type": "code",
   "execution_count": 72,
   "id": "b976df20",
   "metadata": {},
   "outputs": [],
   "source": [
    "df_index = get_index(documents,'df')"
   ]
  },
  {
   "cell_type": "code",
   "execution_count": 110,
   "id": "4ea2b58c",
   "metadata": {},
   "outputs": [
    {
     "name": "stdout",
     "output_type": "stream",
     "text": [
      "Based on the information provided, the main motivations for joining the mindfulness class include:\n",
      "\n",
      "1. Learning techniques to better manage and accept chronic pain conditions like migraines, neck pain, knee pain, fibromyalgia, and long COVID symptoms.\n",
      "\n",
      "2. Gaining deeper knowledge of mindfulness to apply in their professional work, such as an occupational therapist wanting to use it with patients. \n",
      "\n",
      "3. Finding ways to reduce stress and anxiety, listen to their body, and make time for relaxation and healing, especially for those with busy lives as full-time workers or single parents.\n",
      "\n",
      "4. Incorporating mindfulness into their daily life, as some have been influenced by therapists to include more relaxation practices to help control pain, discomfort and unhelpful thoughts.\n",
      "\n",
      "So in summary, the key drivers are learning skills to cope with chronic health issues, reducing stress, and applying mindfulness personally and professionally.\n"
     ]
    }
   ],
   "source": [
    "query_engine_llm = df_index.as_query_engine(llm=llm)\n",
    "# response = query_engine_llm.query(\"what's the main motivation for the patients to join the class??\")\n",
    "print(response)"
   ]
  },
  {
   "cell_type": "code",
   "execution_count": 115,
   "id": "91dcb5a8",
   "metadata": {},
   "outputs": [],
   "source": [
    "tools = [\n",
    "    QueryEngineTool(\n",
    "        query_engine=df_query_engine,\n",
    "        metadata=ToolMetadata(\n",
    "            name=\"df_data\",\n",
    "            description=\"this translates human lanuage into a pandas query\",\n",
    "        ),\n",
    "    ),\n",
    "    QueryEngineTool(\n",
    "            query_engine=query_engine_llm,\n",
    "        metadata=ToolMetadata(\n",
    "            name=\"llm_data\",\n",
    "            description=\"This queries the llm to answer text style questions\",\n",
    "        ),\n",
    "    ),\n",
    "]\n",
    "\n",
    "llm = Anthropic(model=\"claude-3-opus-20240229\")\n",
    "agent = ReActAgent.from_tools(tools, llm=llm, verbose=True, context=context)"
   ]
  },
  {
   "cell_type": "code",
   "execution_count": 116,
   "id": "d6cb3343",
   "metadata": {},
   "outputs": [
    {
     "name": "stdout",
     "output_type": "stream",
     "text": [
      "Enter a prompt (q to quit): how many patients are there\n",
      "\u001b[1;3;38;5;200mThought: I need to use a tool to help me answer the question.\n",
      "Action: df_data\n",
      "Action Input: {'input': 'how many rows are in the dataframe?'}\n",
      "\u001b[0m> Pandas Instructions:\n",
      "```\n",
      "len(df)\n",
      "```\n",
      "> Pandas Output: 5\n",
      "\u001b[1;3;34mObservation: 5\n",
      "\u001b[0m\u001b[1;3;38;5;200mThought: I can answer without using any more tools.\n",
      "Answer: There are 5 patients in the dataset.\n",
      "\u001b[0mThere are 5 patients in the dataset.\n",
      "Enter a prompt (q to quit): what is the main motivation for patients to join the class?\n",
      "\u001b[1;3;38;5;200mThought: I need to use a tool to help me answer the question.\n",
      "Action: llm_data\n",
      "Action Input: {'input': 'what is the main motivation for patients to join the breathing class?'}\n",
      "\u001b[0m\u001b[1;3;34mObservation: Based on the information provided, the main motivations for patients to join the breathing class include:\n",
      "\n",
      "1. Learning techniques to help deal with chronic pain conditions like migraines, neck pain, knee pain, fibromyalgia, and long COVID. Patients want to be able to better accept and manage their pain.\n",
      "\n",
      "2. Reducing stress and anxiety. Some patients have high stress levels and want to find ways to relax, de-stress and calm their active thoughts. \n",
      "\n",
      "3. Gaining deeper knowledge of mindfulness and working towards accreditation, especially for those in healthcare professions who want to use mindfulness with their own patients.\n",
      "\n",
      "4. Making the current year a time for personal healing, with mindfulness seen as a valuable skill to help reach that goal. Patients want to listen to their bodies more and live better.\n",
      "\n",
      "5. Supplementing treatment from therapists who have encouraged using relaxation and mindfulness techniques to help control pain, discomfort and unhelpful thoughts.\n",
      "\u001b[0m\u001b[1;3;38;5;200mThought: The provided observation gives a good overview of the main motivations for patients joining the breathing class, including managing chronic pain, reducing stress/anxiety, gaining mindfulness skills, focusing on personal healing, and supplementing other therapies. I believe I can provide a satisfactory answer to the original question based on this information.\n",
      "Answer: The main motivations for patients to join the breathing class include learning techniques to better manage chronic pain conditions, reducing stress and anxiety levels, gaining deeper knowledge of mindfulness (sometimes for professional development), making the current year a time of personal healing and growth, and supplementing other treatments focused on relaxation and controlling unhelpful thoughts. Overall, patients see the class as a valuable tool to improve their physical and mental well-being.\n",
      "\u001b[0mThe main motivations for patients to join the breathing class include learning techniques to better manage chronic pain conditions, reducing stress and anxiety levels, gaining deeper knowledge of mindfulness (sometimes for professional development), making the current year a time of personal healing and growth, and supplementing other treatments focused on relaxation and controlling unhelpful thoughts. Overall, patients see the class as a valuable tool to improve their physical and mental well-being.\n",
      "Enter a prompt (q to quit): q\n"
     ]
    }
   ],
   "source": [
    "while (prompt := input(\"Enter a prompt (q to quit): \")) != \"q\":\n",
    "    result = agent.query(prompt)\n",
    "    print(result)"
   ]
  }
 ],
 "metadata": {
  "kernelspec": {
   "display_name": "Python 3 (ipykernel)",
   "language": "python",
   "name": "python3"
  },
  "language_info": {
   "codemirror_mode": {
    "name": "ipython",
    "version": 3
   },
   "file_extension": ".py",
   "mimetype": "text/x-python",
   "name": "python",
   "nbconvert_exporter": "python",
   "pygments_lexer": "ipython3",
   "version": "3.10.6"
  },
  "toc": {
   "base_numbering": 1,
   "nav_menu": {},
   "number_sections": true,
   "sideBar": true,
   "skip_h1_title": false,
   "title_cell": "Table of Contents",
   "title_sidebar": "Contents",
   "toc_cell": false,
   "toc_position": {},
   "toc_section_display": true,
   "toc_window_display": false
  }
 },
 "nbformat": 4,
 "nbformat_minor": 5
}
